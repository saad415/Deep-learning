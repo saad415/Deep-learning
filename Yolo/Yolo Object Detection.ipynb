{
 "cells": [
  {
   "cell_type": "code",
   "execution_count": 1,
   "id": "635fa1ca",
   "metadata": {},
   "outputs": [],
   "source": [
    "import numpy as np\n",
    "import os\n",
    "import cv2\n",
    "import time\n",
    "from ultralytics import YOLO\n"
   ]
  },
  {
   "cell_type": "code",
   "execution_count": 2,
   "id": "f6fe990f",
   "metadata": {},
   "outputs": [],
   "source": [
    "# define some parameters\n",
    "CONFIDENCE = 0.5\n",
    "font_scale = 1\n",
    "thickness = 1\n",
    "\n",
    "# loading the YOLOv8 model with the default weight file\n",
    "model = YOLO(\"yolov8n.pt\")\n",
    "\n",
    "# loading all the class labels (objects)\n",
    "labels = open(\"data/coco.names\").read().strip().split(\"\\n\")\n",
    "\n",
    "# generating colors for each object for later plotting\n",
    "colors = np.random.randint(0, 255, size=(len(labels), 3), dtype=\"uint8\")\n",
    "\n"
   ]
  },
  {
   "cell_type": "code",
   "execution_count": 12,
   "id": "f99d7195",
   "metadata": {},
   "outputs": [
    {
     "name": "stderr",
     "output_type": "stream",
     "text": [
      "\n",
      "0: 640x480 1 car, 116.9ms\n",
      "Speed: 7.5ms preprocess, 116.9ms inference, 4.0ms postprocess per image at shape (1, 3, 640, 480)\n"
     ]
    },
    {
     "name": "stdout",
     "output_type": "stream",
     "text": [
      "Time took: 0.16s\n",
      "tensor([[2.2016e+02, 3.0231e+03, 3.0473e+03, 4.6240e+03, 9.1238e-01, 2.0000e+00]], device='cuda:0')\n"
     ]
    }
   ],
   "source": [
    "#prediction\n",
    "path_name = \"images/car.jpg\"\n",
    "image = cv2.imread(path_name)\n",
    "file_name = os.path.basename(path_name) # \"dog.jpg\"\n",
    "filename, ext = file_name.split(\".\") # \"dog\", \"jpg\"\n",
    "\n",
    "# measure how much it took in seconds\n",
    "start = time.perf_counter()\n",
    "# run inference on the image \n",
    "# see: https://docs.ultralytics.com/modes/predict/#arguments for full list of arguments\n",
    "results = model.predict(image, conf=CONFIDENCE)[0]\n",
    "time_took = time.perf_counter() - start\n",
    "print(f\"Time took: {time_took:.2f}s\")\n",
    "print(results.boxes.data)\n",
    "\n"
   ]
  },
  {
   "cell_type": "code",
   "execution_count": 13,
   "id": "6db98c02",
   "metadata": {},
   "outputs": [],
   "source": [
    "# loop over the detections\n",
    "for data in results.boxes.data.tolist():\n",
    "    # get the bounding box coordinates, confidence, and class id \n",
    "    xmin, ymin, xmax, ymax, confidence, class_id = data\n",
    "    # converting the coordinates and the class id to integers\n",
    "    xmin = int(xmin)\n",
    "    ymin = int(ymin)\n",
    "    xmax = int(xmax)\n",
    "    ymax = int(ymax)\n",
    "    class_id = int(class_id)\n",
    "\n",
    "    # draw a bounding box rectangle and label on the image\n",
    "    color = [int(c) for c in colors[class_id]]\n",
    "    cv2.rectangle(image, (xmin, ymin), (xmax, ymax), color=color, thickness=thickness)\n",
    "    text = f\"{labels[class_id]}: {confidence:.2f}\"\n",
    "    # calculate text width & height to draw the transparent boxes as background of the text\n",
    "    (text_width, text_height) = cv2.getTextSize(text, cv2.FONT_HERSHEY_SIMPLEX, fontScale=font_scale, thickness=thickness)[0]\n",
    "    text_offset_x = xmin\n",
    "    text_offset_y = ymin - 5\n",
    "    box_coords = ((text_offset_x, text_offset_y), (text_offset_x + text_width + 2, text_offset_y - text_height))\n",
    "    overlay = image.copy()\n",
    "    cv2.rectangle(overlay, box_coords[0], box_coords[1], color=color, thickness=cv2.FILLED)\n",
    "    # add opacity (transparency to the box)\n",
    "    image = cv2.addWeighted(overlay, 0.6, image, 0.4, 0)\n",
    "    # now put the text (label: confidence %)\n",
    "    cv2.putText(image, text, (xmin, ymin - 5), cv2.FONT_HERSHEY_SIMPLEX,\n",
    "        fontScale=font_scale, color=(0, 0, 0), thickness=thickness)"
   ]
  },
  {
   "cell_type": "code",
   "execution_count": 14,
   "id": "e70745d1",
   "metadata": {},
   "outputs": [
    {
     "data": {
      "text/plain": [
       "True"
      ]
     },
     "execution_count": 14,
     "metadata": {},
     "output_type": "execute_result"
    }
   ],
   "source": [
    "# display output image\n",
    "cv2.imshow(\"Image\", image)\n",
    "cv2.waitKey(0)\n",
    "# save output image to disk\n",
    "cv2.imwrite(filename + \"_yolo8.\" + ext, image)"
   ]
  },
  {
   "cell_type": "code",
   "execution_count": null,
   "id": "82539c3b",
   "metadata": {},
   "outputs": [],
   "source": []
  }
 ],
 "metadata": {
  "kernelspec": {
   "display_name": "Python 3 (ipykernel)",
   "language": "python",
   "name": "python3"
  },
  "language_info": {
   "codemirror_mode": {
    "name": "ipython",
    "version": 3
   },
   "file_extension": ".py",
   "mimetype": "text/x-python",
   "name": "python",
   "nbconvert_exporter": "python",
   "pygments_lexer": "ipython3",
   "version": "3.9.13"
  }
 },
 "nbformat": 4,
 "nbformat_minor": 5
}
